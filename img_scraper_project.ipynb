{
 "cells": [
  {
   "cell_type": "code",
   "execution_count": 1,
   "id": "5f3c1e8e-4f88-4de1-b8e4-8c66f2e8532d",
   "metadata": {},
   "outputs": [
    {
     "name": "stdin",
     "output_type": "stream",
     "text": [
      "Enter image to be scrapped dhoni\n"
     ]
    }
   ],
   "source": [
    "import requests\n",
    "from bs4 import BeautifulSoup \n",
    "from urllib.request import urlopen as uReq\n",
    "import os\n",
    "\n",
    "save_dir=\"images/\"\n",
    "if not os.path.exists(save_dir): #if directory don't exists then create directory\n",
    "    os.makedirs(save_dir)\n",
    "\n",
    "query=input(\"Enter image to be scrapped\")\n",
    "response=requests.get(f\"https://www.google.com/search?q={query}google+image+search&sca_esv=598228095&tbm=isch&sxsrf=ACQVn0_T7xnZcD0DE0_68QinsSkdLvvBDg:1705182998852&source=lnms&sa=X&ved=2ahUKEwiexLHXrduDAxWhoWMGHQMvChsQ_AUoAXoECAIQAw&biw=1360&bih=607&dpr=1\")\n",
    "\n",
    "#beautiful soup extract data from url in html form\n",
    "soup=BeautifulSoup(response.content,'html.parser')\n",
    "img_tags=soup.find_all(\"img\")\n",
    "del img_tags[0]\n",
    "\n",
    "for i in img_tags:\n",
    "    img_url=i['src']\n",
    "    image_data=requests.get(img_url).content\n",
    "    with open(os.path.join(save_dir,f\"{query}_{img_tags.index(i)}.jpg\"),\"wb\") as f:\n",
    "        f.write(image_data)\n",
    "#os.path.join -The os.path.join() function in Python is used to combine multiple path components into a single,valid path.\n",
    "#content - returns thse content of urls"
   ]
  },
  {
   "cell_type": "code",
   "execution_count": null,
   "id": "19323aa6-404e-4980-a431-24365bafc1cb",
   "metadata": {},
   "outputs": [],
   "source": []
  }
 ],
 "metadata": {
  "kernelspec": {
   "display_name": "Python 3 (ipykernel)",
   "language": "python",
   "name": "python3"
  },
  "language_info": {
   "codemirror_mode": {
    "name": "ipython",
    "version": 3
   },
   "file_extension": ".py",
   "mimetype": "text/x-python",
   "name": "python",
   "nbconvert_exporter": "python",
   "pygments_lexer": "ipython3",
   "version": "3.10.8"
  }
 },
 "nbformat": 4,
 "nbformat_minor": 5
}
